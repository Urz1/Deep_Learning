{
  "nbformat": 4,
  "nbformat_minor": 0,
  "metadata": {
    "colab": {
      "provenance": [],
      "authorship_tag": "ABX9TyNlf1rsrYKb1IF/Mqnxp61s",
      "include_colab_link": true
    },
    "kernelspec": {
      "name": "python3",
      "display_name": "Python 3"
    },
    "language_info": {
      "name": "python"
    }
  },
  "cells": [
    {
      "cell_type": "markdown",
      "metadata": {
        "id": "view-in-github",
        "colab_type": "text"
      },
      "source": [
        "<a href=\"https://colab.research.google.com/github/Urz1/Deep_Learning/blob/main/Character_Level_Language_Model.ipynb\" target=\"_parent\"><img src=\"https://colab.research.google.com/assets/colab-badge.svg\" alt=\"Open In Colab\"/></a>"
      ]
    },
    {
      "cell_type": "markdown",
      "metadata": {
        "id": "4cb47339"
      },
      "source": [
        "# Character-Level Language Model\n",
        "\n",
        "This notebook demonstrates the training of a simple character-level language model using PyTorch. The model will learn to predict the next character in a sequence based on the preceding characters. We will train this model on a dataset of names."
      ]
    },
    {
      "cell_type": "code",
      "metadata": {
        "id": "fb9e60a8"
      },
      "source": [
        "import torch\n",
        "import torch.nn.functional as F\n",
        "import matplotlib.pyplot as plt\n",
        "%matplotlib inline"
      ],
      "execution_count": 1,
      "outputs": []
    },
    {
      "cell_type": "markdown",
      "metadata": {
        "id": "fea12e54"
      },
      "source": [
        "## Data Loading and Preprocessing\n",
        "\n",
        "First, we load the dataset of names and create mappings between characters and integers. The `stoi` dictionary maps characters to integers, and `itos` maps integers back to characters. The special character '.' is used to represent the start and end of a name."
      ]
    },
    {
      "cell_type": "code",
      "metadata": {
        "id": "76cfe186"
      },
      "source": [
        "words = open('names.txt', 'r').read().splitlines()"
      ],
      "execution_count": 2,
      "outputs": []
    },
    {
      "cell_type": "code",
      "metadata": {
        "colab": {
          "base_uri": "https://localhost:8080/"
        },
        "id": "6ff25867",
        "outputId": "a09aec70-2413-46e4-dbc1-5dc3ea0cb9aa"
      },
      "source": [
        "chars = sorted(list(set(''.join(words))))\n",
        "stoi = { s: i + 1 for i, s in enumerate(chars)}\n",
        "stoi['.'] = 0\n",
        "itos = {i:s for s,i in stoi.items()}\n",
        "print(itos)"
      ],
      "execution_count": 3,
      "outputs": [
        {
          "output_type": "stream",
          "name": "stdout",
          "text": [
            "{1: 'a', 2: 'b', 3: 'c', 4: 'd', 5: 'e', 6: 'f', 7: 'g', 8: 'h', 9: 'i', 10: 'j', 11: 'k', 12: 'l', 13: 'm', 14: 'n', 15: 'o', 16: 'p', 17: 'q', 18: 'r', 19: 's', 20: 't', 21: 'u', 22: 'v', 23: 'w', 24: 'x', 25: 'y', 26: 'z', 0: '.'}\n"
          ]
        }
      ]
    },
    {
      "cell_type": "markdown",
      "metadata": {
        "id": "30e69045"
      },
      "source": [
        "We then build the dataset by creating input-output pairs. The input consists of a sequence of `block_size` characters (the context), and the output is the next character in the sequence. We use a block size of 3, meaning we consider the previous 3 characters to predict the next one. The dataset is split into training, development, and test sets."
      ]
    },
    {
      "cell_type": "code",
      "metadata": {
        "colab": {
          "base_uri": "https://localhost:8080/"
        },
        "id": "157976f1",
        "outputId": "430f6026-840e-4324-d7d8-db290121cc5c"
      },
      "source": [
        "# build the dataset\n",
        "def build_dataset(words):\n",
        "  block_size = 3\n",
        "  X, Y = [], []\n",
        "\n",
        "  for w in words:\n",
        "    context  = [0] * block_size\n",
        "    for ch in w + '.':\n",
        "      ix = stoi[ch]\n",
        "      X.append(context)\n",
        "      Y.append(ix)\n",
        "      context = context[1:] + [ix]\n",
        "\n",
        "  X = torch.tensor(X)\n",
        "  Y = torch.tensor(Y)\n",
        "  print(X.shape, Y.shape)\n",
        "  return X, Y\n",
        "\n",
        "import random\n",
        "random.seed(42)\n",
        "random.shuffle(words)\n",
        "n1 = int(0.8*len(words))\n",
        "n2 = int(0.9*len(words))\n",
        "\n",
        "Xtr, Ytr = build_dataset(words[:n1])\n",
        "Xdev, Ydev = build_dataset(words[n1:n2])\n",
        "Xte, Yte = build_dataset(words[n2:])"
      ],
      "execution_count": 6,
      "outputs": [
        {
          "output_type": "stream",
          "name": "stdout",
          "text": [
            "torch.Size([182437, 3]) torch.Size([182437])\n",
            "torch.Size([22781, 3]) torch.Size([22781])\n",
            "torch.Size([22928, 3]) torch.Size([22928])\n"
          ]
        }
      ]
    },
    {
      "cell_type": "markdown",
      "metadata": {
        "id": "59b753d0"
      },
      "source": [
        "## Model Architecture\n",
        "\n",
        "The model consists of an embedding layer, a hidden layer with a tanh activation function, and an output layer.\n",
        "\n",
        "- **Embedding Layer (C):** This layer maps each character (represented as an integer) into a low-dimensional dense vector. The size of the embedding is 2 in this case.\n",
        "- **Hidden Layer:** This is a linear layer that takes the concatenated embeddings of the input characters and transforms them into a hidden representation. We use a hidden layer size of 300. A tanh activation function is applied to the output of the hidden layer to introduce non-linearity.\n",
        "- **Output Layer:** This is another linear layer that takes the output of the hidden layer and produces logits for each possible next character. The size of the output layer is equal to the number of unique characters (27, including '.')."
      ]
    },
    {
      "cell_type": "code",
      "metadata": {
        "id": "5b2b2f84"
      },
      "source": [
        "g = torch.Generator().manual_seed(2147483647)\n",
        "C = torch.randn((27, 2), generator=g)\n",
        "w1 = torch.randn((6, 300), generator  = g)\n",
        "b1 = torch.randn(300, generator = g)\n",
        "w2 = torch.randn((300, 27), generator = g)\n",
        "b2 = torch.randn(27, generator = g)\n",
        "\n",
        "parameters = [C, w1, b1, w2, b2]"
      ],
      "execution_count": 7,
      "outputs": []
    },
    {
      "cell_type": "markdown",
      "metadata": {
        "id": "30ec8431"
      },
      "source": [
        "We can see the total number of parameters in our model:"
      ]
    },
    {
      "cell_type": "code",
      "metadata": {
        "colab": {
          "base_uri": "https://localhost:8080/"
        },
        "id": "ba02b1a2",
        "outputId": "26cb5834-5965-4b52-ce8c-2059606adb14"
      },
      "source": [
        "sum(p.nelement() for p in parameters)"
      ],
      "execution_count": 8,
      "outputs": [
        {
          "output_type": "execute_result",
          "data": {
            "text/plain": [
              "10281"
            ]
          },
          "metadata": {},
          "execution_count": 8
        }
      ]
    },
    {
      "cell_type": "markdown",
      "metadata": {
        "id": "cb1f098f"
      },
      "source": [
        "We set the `requires_grad` attribute to `True` for all parameters so that gradients can be computed during the backward pass."
      ]
    },
    {
      "cell_type": "code",
      "metadata": {
        "id": "be567358"
      },
      "source": [
        "for p in parameters:\n",
        "  p.requires_grad = True"
      ],
      "execution_count": 9,
      "outputs": []
    },
    {
      "cell_type": "markdown",
      "metadata": {
        "id": "49b66ec5"
      },
      "source": [
        "We will explore different learning rates to find an optimal value for training."
      ]
    },
    {
      "cell_type": "code",
      "metadata": {
        "id": "24044ff5"
      },
      "source": [
        "lre = torch.linspace(-3, 0, 100)\n",
        "lrs = 10**lre"
      ],
      "execution_count": 10,
      "outputs": []
    },
    {
      "cell_type": "markdown",
      "metadata": {
        "id": "c03879d7"
      },
      "source": [
        "## Training Loop\n",
        "\n",
        "We train the model using mini-batch gradient descent. In each iteration, we:\n",
        "\n",
        "1. **Construct a mini-batch:** Select a random subset of the training data.\n",
        "2. **Forward pass:** Compute the output logits for the mini-batch.\n",
        "3. **Calculate the loss:** Compute the cross-entropy loss between the logits and the target characters.\n",
        "4. **Backward pass:** Compute the gradients of the loss with respect to the parameters.\n",
        "5. **Update parameters:** Adjust the parameters in the direction that minimizes the loss, using a learning rate.\n",
        "6. **Track stats:** Record the learning rate and the loss for analysis."
      ]
    },
    {
      "cell_type": "code",
      "metadata": {
        "id": "06b8d68d"
      },
      "source": [
        "lri = []\n",
        "lossi = []\n",
        "step = []\n",
        "for i in range(100):\n",
        "\n",
        "  #  mini batch construct\n",
        "  ix = torch.randint(0, Xtr.shape[0], (len(Ydev), ))\n",
        "\n",
        "  # forward pass\n",
        "  emb = C[Xtr[ix]] # (-1, 3, 2)\n",
        "  h = torch.tanh(emb.view(-1,6) @ w1 + b1)\n",
        "  logits = h @ w2 + b2 # ( -1, 27)\n",
        "  loss = F.cross_entropy(logits, Ytr[ix])\n",
        "\n",
        "  #  backward Pass\n",
        "  for p in parameters:\n",
        "    p.grad=  None\n",
        "  loss.backward()\n",
        "\n",
        "  # update\n",
        "  lr = lrs[i]\n",
        "  for p in parameters:\n",
        "    p.data += -lr * p.grad\n",
        "\n",
        "  # track stats\n",
        "  step.append(i)\n",
        "  lossi.append(loss.item())\n",
        "  lri.append(lrs[i])"
      ],
      "execution_count": null,
      "outputs": []
    },
    {
      "cell_type": "markdown",
      "metadata": {
        "id": "dd3eb796"
      },
      "source": [
        "## Evaluation\n",
        "\n",
        "After training, we evaluate the model's performance by calculating the loss on the training and development datasets."
      ]
    },
    {
      "cell_type": "code",
      "metadata": {
        "colab": {
          "base_uri": "https://localhost:8080/"
        },
        "id": "c19c33f5",
        "outputId": "101f80b8-bea8-4591-b504-40e1e2513cdc"
      },
      "source": [
        "emb = C[Xtr]\n",
        "h = torch.tanh(emb.view(-1, 6) @ w1 + b1)\n",
        "logits = h @ w2 + b2 # (-1 , 27)\n",
        "loss = F.cross_entropy(logits, Ytr)\n",
        "loss"
      ],
      "execution_count": null,
      "outputs": [
        {
          "output_type": "execute_result",
          "data": {
            "text/plain": [
              "tensor(22.1007, grad_fn=<NllLossBackward0>)"
            ]
          },
          "metadata": {},
          "execution_count": 116
        }
      ]
    },
    {
      "cell_type": "code",
      "metadata": {
        "colab": {
          "base_uri": "https://localhost:8080/"
        },
        "id": "5ce9c101",
        "outputId": "7121d129-9836-4dc5-98eb-ecb6ea92f0db"
      },
      "source": [
        "emb = C[Xdev]\n",
        "h = torch.tanh(emb.view(-1, 6) @ w1 + b1)\n",
        "logits = h @ w2 + b2 # (-1 , 27)\n",
        "loss = F.cross_entropy(logits, Ydev)\n",
        "loss"
      ],
      "execution_count": null,
      "outputs": [
        {
          "output_type": "execute_result",
          "data": {
            "text/plain": [
              "tensor(22.0615, grad_fn=<NllLossBackward0>)"
            ]
          },
          "metadata": {},
          "execution_count": 117
        }
      ]
    },
    {
      "cell_type": "markdown",
      "metadata": {
        "id": "42392de7"
      },
      "source": [
        "## Visualization\n",
        "\n",
        "We can visualize the training process by plotting the loss over the training steps. This helps us see how well the model is learning."
      ]
    },
    {
      "cell_type": "code",
      "metadata": {
        "colab": {
          "base_uri": "https://localhost:8080/",
          "height": 447
        },
        "id": "4f2553cf",
        "outputId": "47661189-7ea7-481e-edac-97e322fa77de"
      },
      "source": [
        "plt.plot(step, lossi)"
      ],
      "execution_count": null,
      "outputs": [
        {
          "output_type": "execute_result",
          "data": {
            "text/plain": [
              "[<matplotlib.lines.Line2D at 0x7983464c4740>]"
            ]
          },
          "metadata": {},
          "execution_count": 118
        },
        {
          "output_type": "display_data",
          "data": {
            "text/plain": [
              "<Figure size 640x480 with 1 Axes>"
            ],
            "image/png": "[encoded data removed]"
          },
          "metadata": {}
        }
      ]
    },
    {
      "cell_type": "markdown",
      "metadata": {
        "id": "9e6f2830"
      },
      "source": [
        "We can also visualize the character embeddings learned by the model. Characters that are semantically similar (e.g., vowels or consonants) might be located closer to each other in the embedding space."
      ]
    },
    {
      "cell_type": "code",
      "metadata": {
        "colab": {
          "base_uri": "https://localhost:8080/",
          "height": 676
        },
        "id": "63de283f",
        "outputId": "e9e86369-1ef3-4b15-9fbc-f40f48873916"
      },
      "source": [
        "plt.figure(figsize = (8,8))\n",
        "plt.scatter(C[:, 0].data, C[:,1].data, s = 200)\n",
        "for i in range(C.shape[0]):\n",
        "  plt.text(C[i, 0].item(), C[i, 1].item(), itos[i], ha = \"center\", va = \"center\", color = \"white\")\n",
        "plt.grid('minor')"
      ],
      "execution_count": null,
      "outputs": [
        {
          "output_type": "display_data",
          "data": {
            "text/plain": [
              "<Figure size 800x800 with 1 Axes>"
            ],
            "image/png": "[encoded data removed]"
          },
          "metadata": {}
        }
      ]
    },
    {
      "cell_type": "markdown",
      "metadata": {
        "id": "cbb95842"
      },
      "source": [
        "## Conclusion\n",
        "\n",
        "This notebook demonstrated the process of building and training a simple character-level language model. We loaded and preprocessed the data, defined the model architecture, set up the training loop, and evaluated the model's performance."
      ]
    }
  ]
}